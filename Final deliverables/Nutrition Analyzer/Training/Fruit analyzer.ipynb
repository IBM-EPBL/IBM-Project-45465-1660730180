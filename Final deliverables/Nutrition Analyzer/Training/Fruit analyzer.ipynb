{
 "cells": [
  {
   "cell_type": "code",
   "execution_count": 40,
   "id": "cc563c42",
   "metadata": {},
   "outputs": [],
   "source": [
    "import numpy as np\n",
    "import tensorflow\n",
    "from tensorflow.keras.models import Sequential\n",
    "from tensorflow.keras import layers\n",
    "from tensorflow.keras.layers import Dense,Flatten\n",
    "from tensorflow.keras.layers import Conv2D,MaxPooling2D,Dropout\n",
    "from keras.preprocessing.image import ImageDataGenerator"
   ]
  },
  {
   "cell_type": "code",
   "execution_count": 41,
   "id": "c2b9b34c",
   "metadata": {},
   "outputs": [],
   "source": [
    "train_datagen = ImageDataGenerator(rescale=1./255,shear_range=0.2,zoom_range=0.2,horizontal_flip=True)\n",
    "test_datagen=ImageDataGenerator(rescale=1./255)"
   ]
  },
  {
   "cell_type": "code",
   "execution_count": 42,
   "id": "0aef5f84",
   "metadata": {},
   "outputs": [
    {
     "name": "stdout",
     "output_type": "stream",
     "text": [
      "Found 3982 images belonging to 5 classes.\n",
      "Found 3982 images belonging to 5 classes.\n"
     ]
    }
   ],
   "source": [
    "x_train = train_datagen.flow_from_directory(\n",
    "    r'F:\\IBM PROJECT\\Nutrition Analyzer\\Dataset\\TRAIN_SET',\n",
    "    target_size=(64, 64),batch_size=5,color_mode='rgb',class_mode='sparse')\n",
    "\n",
    "x_test = test_datagen.flow_from_directory(\n",
    "    r'F:\\IBM PROJECT\\Nutrition Analyzer\\Dataset\\TEST_SET',\n",
    "    target_size=(64, 64),batch_size=5,color_mode='rgb',class_mode='sparse') "
   ]
  },
  {
   "cell_type": "code",
   "execution_count": 43,
   "id": "9f235885",
   "metadata": {},
   "outputs": [
    {
     "name": "stdout",
     "output_type": "stream",
     "text": [
      "{'APPLES': 0, 'BANANA': 1, 'ORANGE': 2, 'PINEAPPLE': 3, 'WATERMELON': 4}\n"
     ]
    }
   ],
   "source": [
    "print(x_train.class_indices)"
   ]
  },
  {
   "cell_type": "code",
   "execution_count": 44,
   "id": "a63e02e5",
   "metadata": {},
   "outputs": [
    {
     "name": "stdout",
     "output_type": "stream",
     "text": [
      "{'APPLES': 0, 'BANANA': 1, 'ORANGE': 2, 'PINEAPPLE': 3, 'WATERMELON': 4}\n"
     ]
    }
   ],
   "source": [
    "print(x_test.class_indices)"
   ]
  },
  {
   "cell_type": "code",
   "execution_count": 45,
   "id": "050fecd1",
   "metadata": {},
   "outputs": [
    {
     "data": {
      "text/plain": [
       "Counter({0: 882, 1: 1273, 2: 728, 3: 622, 4: 477})"
      ]
     },
     "execution_count": 45,
     "metadata": {},
     "output_type": "execute_result"
    }
   ],
   "source": [
    "from collections import Counter as c\n",
    "c(x_train .labels)"
   ]
  },
  {
   "cell_type": "code",
   "execution_count": 46,
   "id": "7f51e211",
   "metadata": {},
   "outputs": [],
   "source": [
    "classifier = Sequential()\n",
    "\n",
    "\n",
    "classifier.add(Conv2D(32, (3, 3), input_shape=(64, 64, 3), activation='relu'))\n",
    "classifier.add(MaxPooling2D(pool_size=(2, 2)))\n",
    "\n",
    "\n",
    "classifier.add(Conv2D(32, (3, 3), activation='relu'))\n",
    "\n",
    "\n",
    "classifier.add(MaxPooling2D(pool_size=(2, 2)))\n",
    "\n",
    "classifier.add(Flatten())\n",
    "\n",
    "classifier.add(Dense(units=128, activation='relu'))\n",
    "classifier.add(Dense(units=5, activation='softmax'))\n"
   ]
  },
  {
   "cell_type": "code",
   "execution_count": 47,
   "id": "01a315b4",
   "metadata": {},
   "outputs": [
    {
     "name": "stdout",
     "output_type": "stream",
     "text": [
      "Model: \"sequential_1\"\n",
      "_________________________________________________________________\n",
      " Layer (type)                Output Shape              Param #   \n",
      "=================================================================\n",
      " conv2d_2 (Conv2D)           (None, 62, 62, 32)        896       \n",
      "                                                                 \n",
      " max_pooling2d_2 (MaxPooling  (None, 31, 31, 32)       0         \n",
      " 2D)                                                             \n",
      "                                                                 \n",
      " conv2d_3 (Conv2D)           (None, 29, 29, 32)        9248      \n",
      "                                                                 \n",
      " max_pooling2d_3 (MaxPooling  (None, 14, 14, 32)       0         \n",
      " 2D)                                                             \n",
      "                                                                 \n",
      " flatten_1 (Flatten)         (None, 6272)              0         \n",
      "                                                                 \n",
      " dense_2 (Dense)             (None, 128)               802944    \n",
      "                                                                 \n",
      " dense_3 (Dense)             (None, 5)                 645       \n",
      "                                                                 \n",
      "=================================================================\n",
      "Total params: 813,733\n",
      "Trainable params: 813,733\n",
      "Non-trainable params: 0\n",
      "_________________________________________________________________\n"
     ]
    }
   ],
   "source": [
    "classifier.summary()"
   ]
  },
  {
   "cell_type": "code",
   "execution_count": 48,
   "id": "c83d3b7a",
   "metadata": {},
   "outputs": [],
   "source": [
    "classifier.compile(optimizer='adam', loss='sparse_categorical_crossentropy', metrics=['accuracy']) "
   ]
  },
  {
   "cell_type": "code",
   "execution_count": 49,
   "id": "84e7fa1a",
   "metadata": {},
   "outputs": [
    {
     "name": "stdout",
     "output_type": "stream",
     "text": [
      "Epoch 1/40\n"
     ]
    },
    {
     "name": "stderr",
     "output_type": "stream",
     "text": [
      "C:\\Users\\91909\\AppData\\Local\\Temp\\ipykernel_38840\\3166227136.py:1: UserWarning: `Model.fit_generator` is deprecated and will be removed in a future version. Please use `Model.fit`, which supports generators.\n",
      "  classifier.fit_generator(\n"
     ]
    },
    {
     "name": "stdout",
     "output_type": "stream",
     "text": [
      "797/797 [==============================] - 28s 35ms/step - loss: 0.3775 - accuracy: 0.8684 - val_loss: 0.1649 - val_accuracy: 0.9432\n",
      "Epoch 2/40\n",
      "797/797 [==============================] - 28s 36ms/step - loss: 0.1901 - accuracy: 0.9319 - val_loss: 0.1209 - val_accuracy: 0.9528\n",
      "Epoch 3/40\n",
      "797/797 [==============================] - 28s 36ms/step - loss: 0.1584 - accuracy: 0.9442 - val_loss: 0.0986 - val_accuracy: 0.9621\n",
      "Epoch 4/40\n",
      "797/797 [==============================] - 32s 40ms/step - loss: 0.1331 - accuracy: 0.9508 - val_loss: 0.1000 - val_accuracy: 0.9679\n",
      "Epoch 5/40\n",
      "797/797 [==============================] - 30s 38ms/step - loss: 0.1344 - accuracy: 0.9555 - val_loss: 0.0814 - val_accuracy: 0.9706\n",
      "Epoch 6/40\n",
      "797/797 [==============================] - 35s 44ms/step - loss: 0.1179 - accuracy: 0.9558 - val_loss: 0.0736 - val_accuracy: 0.9721\n",
      "Epoch 7/40\n",
      "797/797 [==============================] - 34s 42ms/step - loss: 0.1211 - accuracy: 0.9566 - val_loss: 0.0762 - val_accuracy: 0.9719\n",
      "Epoch 8/40\n",
      "797/797 [==============================] - 39s 49ms/step - loss: 0.0961 - accuracy: 0.9618 - val_loss: 0.0696 - val_accuracy: 0.9741\n",
      "Epoch 9/40\n",
      "797/797 [==============================] - 33s 41ms/step - loss: 0.0808 - accuracy: 0.9694 - val_loss: 0.0680 - val_accuracy: 0.9749\n",
      "Epoch 10/40\n",
      "797/797 [==============================] - 31s 39ms/step - loss: 0.0827 - accuracy: 0.9709 - val_loss: 0.0501 - val_accuracy: 0.9799\n",
      "Epoch 11/40\n",
      "797/797 [==============================] - 35s 44ms/step - loss: 0.0734 - accuracy: 0.9734 - val_loss: 0.0458 - val_accuracy: 0.9822\n",
      "Epoch 12/40\n",
      "797/797 [==============================] - 34s 43ms/step - loss: 0.0960 - accuracy: 0.9676 - val_loss: 0.0564 - val_accuracy: 0.9807\n",
      "Epoch 13/40\n",
      "797/797 [==============================] - 34s 43ms/step - loss: 0.0659 - accuracy: 0.9771 - val_loss: 0.0358 - val_accuracy: 0.9879\n",
      "Epoch 14/40\n",
      "797/797 [==============================] - 38s 47ms/step - loss: 0.0512 - accuracy: 0.9817 - val_loss: 0.0279 - val_accuracy: 0.9907\n",
      "Epoch 15/40\n",
      "797/797 [==============================] - 37s 46ms/step - loss: 0.0649 - accuracy: 0.9779 - val_loss: 0.1822 - val_accuracy: 0.9440\n",
      "Epoch 16/40\n",
      "797/797 [==============================] - 35s 44ms/step - loss: 0.0685 - accuracy: 0.9761 - val_loss: 0.0224 - val_accuracy: 0.9937\n",
      "Epoch 17/40\n",
      "797/797 [==============================] - 35s 44ms/step - loss: 0.0681 - accuracy: 0.9769 - val_loss: 0.0213 - val_accuracy: 0.9937\n",
      "Epoch 18/40\n",
      "797/797 [==============================] - 35s 44ms/step - loss: 0.0457 - accuracy: 0.9837 - val_loss: 0.0683 - val_accuracy: 0.9754\n",
      "Epoch 19/40\n",
      "797/797 [==============================] - 25s 31ms/step - loss: 0.0680 - accuracy: 0.9771 - val_loss: 0.0242 - val_accuracy: 0.9915\n",
      "Epoch 20/40\n",
      "797/797 [==============================] - 42s 52ms/step - loss: 0.0469 - accuracy: 0.9847 - val_loss: 0.0206 - val_accuracy: 0.9925\n",
      "Epoch 21/40\n",
      "797/797 [==============================] - 36s 45ms/step - loss: 0.0454 - accuracy: 0.9854 - val_loss: 0.0170 - val_accuracy: 0.9942\n",
      "Epoch 22/40\n",
      "797/797 [==============================] - 34s 43ms/step - loss: 0.0396 - accuracy: 0.9872 - val_loss: 0.0455 - val_accuracy: 0.9852\n",
      "Epoch 23/40\n",
      "797/797 [==============================] - 39s 49ms/step - loss: 0.0516 - accuracy: 0.9809 - val_loss: 0.0145 - val_accuracy: 0.9952\n",
      "Epoch 24/40\n",
      "797/797 [==============================] - 40s 50ms/step - loss: 0.0295 - accuracy: 0.9902 - val_loss: 0.0196 - val_accuracy: 0.9947\n",
      "Epoch 25/40\n",
      "797/797 [==============================] - 34s 43ms/step - loss: 0.0548 - accuracy: 0.9834 - val_loss: 0.0398 - val_accuracy: 0.9839\n",
      "Epoch 26/40\n",
      "797/797 [==============================] - 39s 49ms/step - loss: 0.0466 - accuracy: 0.9877 - val_loss: 0.0432 - val_accuracy: 0.9857\n",
      "Epoch 27/40\n",
      "797/797 [==============================] - 43s 54ms/step - loss: 0.0312 - accuracy: 0.9897 - val_loss: 0.0076 - val_accuracy: 0.9977\n",
      "Epoch 28/40\n",
      "797/797 [==============================] - 38s 48ms/step - loss: 0.0267 - accuracy: 0.9925 - val_loss: 0.0096 - val_accuracy: 0.9957\n",
      "Epoch 29/40\n",
      "797/797 [==============================] - 22s 28ms/step - loss: 0.0440 - accuracy: 0.9900 - val_loss: 0.0171 - val_accuracy: 0.9945\n",
      "Epoch 30/40\n",
      "797/797 [==============================] - 37s 47ms/step - loss: 0.0346 - accuracy: 0.9900 - val_loss: 0.0096 - val_accuracy: 0.9965\n",
      "Epoch 31/40\n",
      "797/797 [==============================] - 35s 44ms/step - loss: 0.0179 - accuracy: 0.9950 - val_loss: 0.0070 - val_accuracy: 0.9975\n",
      "Epoch 32/40\n",
      "797/797 [==============================] - 35s 44ms/step - loss: 0.0345 - accuracy: 0.9912 - val_loss: 0.0069 - val_accuracy: 0.9975\n",
      "Epoch 33/40\n",
      "797/797 [==============================] - 32s 41ms/step - loss: 0.0423 - accuracy: 0.9869 - val_loss: 0.0140 - val_accuracy: 0.9962\n",
      "Epoch 34/40\n",
      "797/797 [==============================] - 25s 31ms/step - loss: 0.0247 - accuracy: 0.9907 - val_loss: 0.0102 - val_accuracy: 0.9965\n",
      "Epoch 35/40\n",
      "797/797 [==============================] - 34s 43ms/step - loss: 0.0364 - accuracy: 0.9902 - val_loss: 0.0188 - val_accuracy: 0.9942\n",
      "Epoch 36/40\n",
      "797/797 [==============================] - 28s 35ms/step - loss: 0.0100 - accuracy: 0.9967 - val_loss: 0.0168 - val_accuracy: 0.9942\n",
      "Epoch 37/40\n",
      "797/797 [==============================] - 31s 39ms/step - loss: 0.0229 - accuracy: 0.9922 - val_loss: 0.0360 - val_accuracy: 0.9912\n",
      "Epoch 38/40\n",
      "797/797 [==============================] - 31s 39ms/step - loss: 0.0559 - accuracy: 0.9872 - val_loss: 0.0055 - val_accuracy: 0.9982\n",
      "Epoch 39/40\n",
      "797/797 [==============================] - 26s 33ms/step - loss: 0.0206 - accuracy: 0.9930 - val_loss: 0.0069 - val_accuracy: 0.9980\n",
      "Epoch 40/40\n",
      "797/797 [==============================] - 34s 43ms/step - loss: 0.0083 - accuracy: 0.9962 - val_loss: 0.0296 - val_accuracy: 0.9907\n"
     ]
    },
    {
     "data": {
      "text/plain": [
       "<keras.callbacks.History at 0x2e480191cd0>"
      ]
     },
     "execution_count": 49,
     "metadata": {},
     "output_type": "execute_result"
    }
   ],
   "source": [
    "classifier.fit_generator(\n",
    "        generator=x_train,steps_per_epoch = len(x_train),\n",
    "        epochs=40, validation_data=x_test,validation_steps = len(x_test))"
   ]
  },
  {
   "cell_type": "code",
   "execution_count": 50,
   "id": "1f461b1a",
   "metadata": {},
   "outputs": [],
   "source": [
    "classifier.save('FruitsAnalyser.h5')"
   ]
  },
  {
   "cell_type": "code",
   "execution_count": 51,
   "id": "6449ab87",
   "metadata": {},
   "outputs": [],
   "source": [
    "from tensorflow.keras.models import load_model\n",
    "from tensorflow.keras.preprocessing import image\n",
    "import numpy as np"
   ]
  },
  {
   "cell_type": "code",
   "execution_count": 74,
   "id": "03960790",
   "metadata": {},
   "outputs": [
    {
     "data": {
      "image/png": "[encoded data removed]",
      "text/plain": [
       "<PIL.Image.Image image mode=RGB size=64x64>"
      ]
     },
     "execution_count": 74,
     "metadata": {},
     "output_type": "execute_result"
    }
   ],
   "source": [
    "img = image.load_img(\"F:/IBM PROJECT/Nutrition Analyzer/Flask/Sample_Images/Test_Image2.jpg\",target_size= (64,64))\n",
    "img"
   ]
  },
  {
   "cell_type": "code",
   "execution_count": 75,
   "id": "35fdf1cd",
   "metadata": {},
   "outputs": [
    {
     "name": "stdout",
     "output_type": "stream",
     "text": [
      "1/1 [==============================] - 0s 24ms/step\n"
     ]
    },
    {
     "data": {
      "text/plain": [
       "'ORANGE'"
      ]
     },
     "execution_count": 75,
     "metadata": {},
     "output_type": "execute_result"
    }
   ],
   "source": [
    "x=image.img_to_array(img)\n",
    "x.ndim\n",
    "x=np.expand_dims(x,axis=0)\n",
    "x.ndim\n",
    "pred = classifier.predict(x)\n",
    "labels=['APPLES', 'BANANA','ORANGE','PINEAPPLE','WATERMELON']\n",
    "labels[np.argmax(pred)]"
   ]
  },
  {
   "cell_type": "markdown",
   "id": "b94bd8de",
   "metadata": {},
   "source": []
  },
  {
   "cell_type": "code",
   "execution_count": null,
   "id": "e2315d93",
   "metadata": {},
   "outputs": [],
   "source": []
  }
 ],
 "metadata": {
  "kernelspec": {
   "display_name": "Python 3 (ipykernel)",
   "language": "python",
   "name": "python3"
  },
  "language_info": {
   "codemirror_mode": {
    "name": "ipython",
    "version": 3
   },
   "file_extension": ".py",
   "mimetype": "text/x-python",
   "name": "python",
   "nbconvert_exporter": "python",
   "pygments_lexer": "ipython3",
   "version": "3.9.13"
  }
 },
 "nbformat": 4,
 "nbformat_minor": 5
}